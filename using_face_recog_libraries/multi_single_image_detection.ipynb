{
 "cells": [
  {
   "cell_type": "code",
   "execution_count": 1,
   "id": "aedb5202",
   "metadata": {},
   "outputs": [],
   "source": [
    "import cv2\n",
    "import numpy as np\n",
    "import face_recognition\n",
    "import os\n",
    "import pickle"
   ]
  },
  {
   "cell_type": "code",
   "execution_count": 4,
   "id": "b7d42d7a",
   "metadata": {},
   "outputs": [],
   "source": [
    "path = 'data'\n",
    "images = []\n",
    "classNames = []\n",
    "myList = os.listdir(path)"
   ]
  },
  {
   "cell_type": "code",
   "execution_count": 5,
   "id": "d788d42c",
   "metadata": {},
   "outputs": [
    {
     "data": {
      "text/plain": [
       "['modi.jpg', 'pratyusa.jpg', 'trump.jpg']"
      ]
     },
     "execution_count": 5,
     "metadata": {},
     "output_type": "execute_result"
    }
   ],
   "source": [
    "myList"
   ]
  },
  {
   "cell_type": "code",
   "execution_count": 6,
   "id": "5864fc28",
   "metadata": {},
   "outputs": [
    {
     "name": "stdout",
     "output_type": "stream",
     "text": [
      "['modi', 'pratyusa', 'trump']\n"
     ]
    }
   ],
   "source": [
    "for cl in myList:\n",
    "    curImg = cv2.imread(f'{path}/{cl}')\n",
    "    images.append(curImg)\n",
    "    classNames.append(os.path.splitext(cl)[0])\n",
    "print(classNames)"
   ]
  },
  {
   "cell_type": "code",
   "execution_count": 7,
   "id": "3a7b867e",
   "metadata": {},
   "outputs": [],
   "source": [
    "def findEncodings(images):\n",
    "    encodeList = []\n",
    "    for img in images:\n",
    "        img = cv2.cvtColor(img, cv2.COLOR_BGR2RGB)\n",
    "        encode = face_recognition.face_encodings(img)[0]\n",
    "        encodeList.append(encode)\n",
    "    return encodeList"
   ]
  },
  {
   "cell_type": "code",
   "execution_count": 8,
   "id": "8deb2003",
   "metadata": {},
   "outputs": [
    {
     "name": "stdout",
     "output_type": "stream",
     "text": [
      "Encoding Complete\n"
     ]
    }
   ],
   "source": [
    "encodeListKnown = findEncodings(images)\n",
    "print('Encoding Complete')"
   ]
  },
  {
   "cell_type": "code",
   "execution_count": 9,
   "id": "af936a70",
   "metadata": {},
   "outputs": [
    {
     "data": {
      "text/plain": [
       "3"
      ]
     },
     "execution_count": 9,
     "metadata": {},
     "output_type": "execute_result"
    }
   ],
   "source": [
    "len(encodeListKnown)"
   ]
  },
  {
   "cell_type": "code",
   "execution_count": 10,
   "id": "015e7f86",
   "metadata": {},
   "outputs": [],
   "source": [
    "## save list of image\n",
    "# import pickle\n",
    "# data = {\"encodings\": encodeListKnown, \"names\": classNames}\n",
    "# #use pickle to save data into a file for later use\n",
    "# f = open(\"face_enc\", \"wb\")\n",
    "# f.write(pickle.dumps(data))\n",
    "# f.close()"
   ]
  },
  {
   "cell_type": "markdown",
   "id": "2076e454",
   "metadata": {},
   "source": [
    "## For Multiimage"
   ]
  },
  {
   "cell_type": "code",
   "execution_count": 11,
   "id": "f6b0225b",
   "metadata": {},
   "outputs": [
    {
     "name": "stdout",
     "output_type": "stream",
     "text": [
      "['trump', 'modi']\n"
     ]
    }
   ],
   "source": [
    "img = cv2.imread('trump-modi-afp.jpg', cv2.IMREAD_COLOR)\n",
    "\n",
    "\n",
    "\n",
    "imgS = cv2.resize(img, (0, 0), None, 0.25, 0.25)\n",
    "imgS = cv2.cvtColor(imgS, cv2.COLOR_BGR2RGB)\n",
    "\n",
    "\n",
    "face_locations = face_recognition.face_locations(imgS)\n",
    "face_encodings = face_recognition.face_encodings(imgS, face_locations)\n",
    "\n",
    "face_names = []\n",
    "for face_encoding in face_encodings:\n",
    "    # See if the face is a match for the known face(s)\n",
    "    matches = face_recognition.compare_faces(encodeListKnown, face_encoding)\n",
    "    name = \"Unknown\"\n",
    "\n",
    "    face_distances = face_recognition.face_distance(encodeListKnown, face_encoding)\n",
    "    best_match_index = np.argmin(face_distances)\n",
    "    if matches[best_match_index]:\n",
    "        name = classNames[best_match_index]\n",
    "\n",
    "    face_names.append(name)\n",
    "    \n",
    "\n",
    "for faceLoc, name in zip(face_locations, face_names):\n",
    "    y1, x2, y2, x1 = faceLoc\n",
    "    y1, x2, y2, x1 = y1 * 4, x2 * 4, y2 * 4, x1 * 4\n",
    "    cv2.rectangle(img, (x1, y1), (x2, y2), (0, 255, 0), 2)\n",
    "    cv2.rectangle(img, (x1, y2 - 35), (x2, y2), (0, 255, 0), cv2.FILLED)\n",
    "    cv2.putText(img, name, (x1 + 6, y2 - 6), cv2.FONT_HERSHEY_COMPLEX, 1, (255, 255, 255), 2)\n",
    "\n",
    "\n",
    "print(face_names)\n",
    "\n",
    "cv2.imshow('image',img)\n",
    "\n",
    "\n",
    "\n",
    "\n",
    "cv2.waitKey(0)\n",
    "cv2.destroyAllWindows()"
   ]
  },
  {
   "cell_type": "markdown",
   "id": "f5697339",
   "metadata": {},
   "source": [
    "## For Single Image"
   ]
  },
  {
   "cell_type": "code",
   "execution_count": 24,
   "id": "9b59c6de",
   "metadata": {},
   "outputs": [
    {
     "name": "stdout",
     "output_type": "stream",
     "text": [
      "[]\n"
     ]
    }
   ],
   "source": [
    "img = cv2.imread('pratyusa.jpg', cv2.IMREAD_COLOR)\n",
    "\n",
    "\n",
    "\n",
    "imgS = cv2.resize(img, (0, 0), None, 0.25, 0.25)\n",
    "imgS = cv2.cvtColor(imgS, cv2.COLOR_BGR2RGB)\n",
    "\n",
    "\n",
    "face_locations = face_recognition.face_locations(imgS)\n",
    "face_encodings = face_recognition.face_encodings(imgS, face_locations)\n",
    "\n",
    "face_names = []\n",
    "for face_encoding in face_encodings:\n",
    "    # See if the face is a match for the known face(s)\n",
    "    matches = face_recognition.compare_faces(encodeListKnown, face_encoding)\n",
    "    name = \"Unknown\"\n",
    "\n",
    "    face_distances = face_recognition.face_distance(encodeListKnown, face_encoding)\n",
    "    best_match_index = np.argmin(face_distances)\n",
    "    if matches[best_match_index]:\n",
    "        name = classNames[best_match_index]\n",
    "\n",
    "    face_names.append(name)\n",
    "    \n",
    "\n",
    "for faceLoc in face_locations:\n",
    "    y1, x2, y2, x1 = faceLoc\n",
    "    y1, x2, y2, x1 = y1 * 4, x2 * 4, y2 * 4, x1 * 4\n",
    "    cv2.rectangle(img, (x1, y1), (x2, y2), (0, 255, 0), 2)\n",
    "    cv2.rectangle(img, (x1, y2 - 35), (x2, y2), (0, 255, 0), cv2.FILLED)\n",
    "    cv2.putText(img, name, (x1 + 6, y2 - 6), cv2.FONT_HERSHEY_COMPLEX, 1, (255, 255, 255), 2)\n",
    "\n",
    "\n",
    "print(face_names)\n",
    "\n",
    "cv2.imshow('image',img)\n",
    "\n",
    "\n",
    "\n",
    "\n",
    "cv2.waitKey(0)\n",
    "cv2.destroyAllWindows()"
   ]
  },
  {
   "cell_type": "code",
   "execution_count": null,
   "id": "8fac7219",
   "metadata": {},
   "outputs": [],
   "source": []
  }
 ],
 "metadata": {
  "kernelspec": {
   "display_name": "Python 3 (ipykernel)",
   "language": "python",
   "name": "python3"
  },
  "language_info": {
   "codemirror_mode": {
    "name": "ipython",
    "version": 3
   },
   "file_extension": ".py",
   "mimetype": "text/x-python",
   "name": "python",
   "nbconvert_exporter": "python",
   "pygments_lexer": "ipython3",
   "version": "3.7.7"
  }
 },
 "nbformat": 4,
 "nbformat_minor": 5
}
