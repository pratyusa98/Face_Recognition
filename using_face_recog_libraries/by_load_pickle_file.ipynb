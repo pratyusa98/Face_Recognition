{
 "cells": [
  {
   "cell_type": "code",
   "execution_count": 2,
   "id": "a2e4de34",
   "metadata": {},
   "outputs": [],
   "source": [
    "import cv2\n",
    "import numpy as np\n",
    "import face_recognition\n",
    "import os\n",
    "import pickle"
   ]
  },
  {
   "cell_type": "code",
   "execution_count": 3,
   "id": "7a836077",
   "metadata": {},
   "outputs": [],
   "source": [
    "# data = pickle.loads(open('face_enc', \"rb\").read()) # single image\n",
    "\n",
    "data = pickle.loads(open(\"encodings\", \"rb\").read()) # whole dataset"
   ]
  },
  {
   "cell_type": "code",
   "execution_count": 4,
   "id": "25c0af14",
   "metadata": {},
   "outputs": [
    {
     "data": {
      "text/plain": [
       "['modi',\n",
       " 'modi',\n",
       " 'modi',\n",
       " 'modi',\n",
       " 'modi',\n",
       " 'modi',\n",
       " 'modi',\n",
       " 'modi',\n",
       " 'modi',\n",
       " 'modi',\n",
       " 'pratyusa',\n",
       " 'pratyusa',\n",
       " 'pratyusa',\n",
       " 'pratyusa',\n",
       " 'pratyusa',\n",
       " 'pratyusa',\n",
       " 'pratyusa',\n",
       " 'pratyusa',\n",
       " 'pratyusa',\n",
       " 'pratyusa',\n",
       " 'trum',\n",
       " 'trum',\n",
       " 'trum',\n",
       " 'trum',\n",
       " 'trum',\n",
       " 'trum',\n",
       " 'trum',\n",
       " 'trum',\n",
       " 'trum',\n",
       " 'trum']"
      ]
     },
     "execution_count": 4,
     "metadata": {},
     "output_type": "execute_result"
    }
   ],
   "source": [
    "data['names']"
   ]
  },
  {
   "cell_type": "code",
   "execution_count": 5,
   "id": "be95a8e1",
   "metadata": {},
   "outputs": [
    {
     "name": "stdout",
     "output_type": "stream",
     "text": [
      "['modi']\n"
     ]
    }
   ],
   "source": [
    "img = cv2.imread('test/1.jpg', cv2.IMREAD_COLOR)\n",
    "\n",
    "\n",
    "imgS = cv2.resize(img, (0, 0), None, 0.25, 0.25)\n",
    "imgS = cv2.cvtColor(imgS, cv2.COLOR_BGR2RGB)\n",
    "\n",
    "\n",
    "face_locations = face_recognition.face_locations(imgS)\n",
    "face_encodings = face_recognition.face_encodings(imgS, face_locations)\n",
    "\n",
    "face_names = []\n",
    "for face_encoding in face_encodings:\n",
    "    # See if the face is a match for the known face(s)\n",
    "    matches = face_recognition.compare_faces(data[\"encodings\"], face_encoding)\n",
    "    name = \"Unknown\"\n",
    "\n",
    "    face_distances = face_recognition.face_distance(data[\"encodings\"], face_encoding)\n",
    "    best_match_index = np.argmin(face_distances)\n",
    "    if matches[best_match_index]:\n",
    "        name = data[\"names\"][best_match_index]\n",
    "\n",
    "    face_names.append(name)\n",
    "    \n",
    "\n",
    "for faceLoc in face_locations:\n",
    "    y1, x2, y2, x1 = faceLoc\n",
    "    y1, x2, y2, x1 = y1 * 4, x2 * 4, y2 * 4, x1 * 4\n",
    "    cv2.rectangle(img, (x1, y1), (x2, y2), (0, 255, 0), 2)\n",
    "    cv2.rectangle(img, (x1, y2 - 35), (x2, y2), (0, 255, 0), cv2.FILLED)\n",
    "    cv2.putText(img, name, (x1 + 6, y2 - 6), cv2.FONT_HERSHEY_COMPLEX, 1, (255, 255, 255), 2)\n",
    "\n",
    "\n",
    "print(face_names)\n",
    "\n",
    "cv2.imshow('image',img)\n",
    "\n",
    "\n",
    "\n",
    "\n",
    "cv2.waitKey(0)\n",
    "cv2.destroyAllWindows()"
   ]
  },
  {
   "cell_type": "code",
   "execution_count": null,
   "id": "4164428c",
   "metadata": {},
   "outputs": [],
   "source": []
  },
  {
   "cell_type": "code",
   "execution_count": null,
   "id": "ffab166d",
   "metadata": {},
   "outputs": [],
   "source": []
  }
 ],
 "metadata": {
  "kernelspec": {
   "display_name": "Python 3 (ipykernel)",
   "language": "python",
   "name": "python3"
  },
  "language_info": {
   "codemirror_mode": {
    "name": "ipython",
    "version": 3
   },
   "file_extension": ".py",
   "mimetype": "text/x-python",
   "name": "python",
   "nbconvert_exporter": "python",
   "pygments_lexer": "ipython3",
   "version": "3.7.7"
  }
 },
 "nbformat": 4,
 "nbformat_minor": 5
}
